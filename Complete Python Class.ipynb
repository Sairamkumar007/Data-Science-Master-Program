{
 "cells": [
  {
   "cell_type": "code",
   "execution_count": 4,
   "id": "d06b91a6-4da5-44ed-bd6e-bbdc5962f626",
   "metadata": {},
   "outputs": [
    {
     "name": "stdout",
     "output_type": "stream",
     "text": [
      "Hello World\n"
     ]
    }
   ],
   "source": [
    "print ('Hello World')"
   ]
  },
  {
   "cell_type": "code",
   "execution_count": 7,
   "id": "40cb53d3-eaf3-45f5-ac03-db46cf91949c",
   "metadata": {},
   "outputs": [
    {
     "name": "stdout",
     "output_type": "stream",
     "text": [
      "hello world\n"
     ]
    }
   ],
   "source": [
    "print(\"hello world\")"
   ]
  },
  {
   "cell_type": "code",
   "execution_count": 8,
   "id": "ae16e31e-d5c6-4487-b9c4-16c8ff104a5d",
   "metadata": {},
   "outputs": [
    {
     "name": "stdout",
     "output_type": "stream",
     "text": [
      "123\n"
     ]
    }
   ],
   "source": [
    "print(123)"
   ]
  },
  {
   "cell_type": "code",
   "execution_count": 9,
   "id": "c5624fcd-2d67-48f5-ad2c-5e0d1e01e17d",
   "metadata": {},
   "outputs": [
    {
     "name": "stdout",
     "output_type": "stream",
     "text": [
      "6\n"
     ]
    }
   ],
   "source": [
    "print(1+2+3)"
   ]
  },
  {
   "cell_type": "code",
   "execution_count": 14,
   "id": "933b9a49-fc55-41e9-bd33-3d42bfef186f",
   "metadata": {},
   "outputs": [
    {
     "name": "stdout",
     "output_type": "stream",
     "text": [
      "My age is 26\n"
     ]
    }
   ],
   "source": [
    "age=26\n",
    "print(\"My age is\",age)"
   ]
  },
  {
   "cell_type": "code",
   "execution_count": 22,
   "id": "b3e39676-9d60-40d5-8871-e51c38ed5e2f",
   "metadata": {},
   "outputs": [
    {
     "name": "stdout",
     "output_type": "stream",
     "text": [
      "My age is 26 and I have completed: my degree M.A with the name of SaiRam\n"
     ]
    }
   ],
   "source": [
    "name= 'SaiRam'\n",
    "middle_name = 'Kumar'\n",
    "age = 26\n",
    "last_name = 'Vongala'\n",
    "degree = 'M.A'\n",
    "print (\"My age is {firstage} and I have completed: my degree {degree} with the name of {fullname}\".format(firstage=age, degree=degree, fullname=name))"
   ]
  },
  {
   "cell_type": "markdown",
   "id": "28140605-35f4-4f37-acd6-189e577e1272",
   "metadata": {},
   "source": [
    "## If Statements"
   ]
  },
  {
   "cell_type": "code",
   "execution_count": 1,
   "id": "1d990bc2-2af7-4702-8793-d7a035b371b1",
   "metadata": {},
   "outputs": [
    {
     "name": "stdout",
     "output_type": "stream",
     "text": [
      "You are eligible to vote\n"
     ]
    }
   ],
   "source": [
    "age = 21\n",
    "if age >= 18:\n",
    "    print(\"You are eligible to vote\")"
   ]
  },
  {
   "cell_type": "code",
   "execution_count": 2,
   "id": "c32c7348-2406-44f2-9f8b-c73e5f77833c",
   "metadata": {},
   "outputs": [
    {
     "name": "stdin",
     "output_type": "stream",
     "text": [
      "Enter the name SaiRam\n"
     ]
    }
   ],
   "source": [
    "name=input(\"Enter the name\")"
   ]
  },
  {
   "cell_type": "code",
   "execution_count": 3,
   "id": "2d955fc3-3432-4042-934e-685614b680d0",
   "metadata": {},
   "outputs": [
    {
     "data": {
      "text/plain": [
       "'SaiRam'"
      ]
     },
     "execution_count": 3,
     "metadata": {},
     "output_type": "execute_result"
    }
   ],
   "source": [
    "name"
   ]
  },
  {
   "cell_type": "code",
   "execution_count": 4,
   "id": "864c98ee-5539-4b45-8bea-ae55b717f9ea",
   "metadata": {},
   "outputs": [],
   "source": [
    "##Task\n",
    "## Take a input of age\n",
    "##Check whether age>=18 and age<=45\n",
    "## display a message you are young blood"
   ]
  },
  {
   "cell_type": "code",
   "execution_count": 5,
   "id": "eab08569-cca5-4fa8-a259-0082e4634973",
   "metadata": {},
   "outputs": [
    {
     "name": "stdin",
     "output_type": "stream",
     "text": [
      "Enter the age 26\n"
     ]
    }
   ],
   "source": [
    "age=int(input(\"Enter the age\"))"
   ]
  },
  {
   "cell_type": "code",
   "execution_count": 6,
   "id": "30544a78-e306-4cf0-b349-c2e7432f1dd0",
   "metadata": {},
   "outputs": [
    {
     "name": "stdout",
     "output_type": "stream",
     "text": [
      "You are young blood\n"
     ]
    }
   ],
   "source": [
    "if age >= 18 and age <= 45:\n",
    "    print(\"You are young blood\")"
   ]
  },
  {
   "cell_type": "markdown",
   "id": "2c9074d5-46fe-4875-84e7-e582b0e18638",
   "metadata": {},
   "source": [
    "## If Else Statements"
   ]
  },
  {
   "cell_type": "code",
   "execution_count": 8,
   "id": "3e2bf91a-4837-4084-97fe-a950ffcb092d",
   "metadata": {},
   "outputs": [
    {
     "name": "stdin",
     "output_type": "stream",
     "text": [
      "Enter the age 56\n"
     ]
    },
    {
     "name": "stdout",
     "output_type": "stream",
     "text": [
      "Thank you, we will let you know\n"
     ]
    }
   ],
   "source": [
    "age=int(input(\"Enter the age\"))\n",
    "if age >= 18 and age <= 45:\n",
    "    print(\"You are young blood\")\n",
    "else:\n",
    "    print(\"Thank you, we will let you know\")"
   ]
  },
  {
   "cell_type": "code",
   "execution_count": 22,
   "id": "6650f376-6407-41d6-82ca-db66be059fb6",
   "metadata": {},
   "outputs": [],
   "source": [
    "###TASK###\n",
    "## In a mall- input the product price\n",
    "## Buy a product >1000, discount of 20%\n",
    "## Print the product price after disc.\n",
    "## product <= 1000, discount of 30%\n",
    "## print the product price after disc."
   ]
  },
  {
   "cell_type": "code",
   "execution_count": 18,
   "id": "8749c189-1503-4c1b-9ce7-343f438d8f8d",
   "metadata": {},
   "outputs": [
    {
     "name": "stdin",
     "output_type": "stream",
     "text": [
      "Enter the product price 1200\n"
     ]
    },
    {
     "name": "stdout",
     "output_type": "stream",
     "text": [
      "Price of the product is960.0\n"
     ]
    }
   ],
   "source": [
    "product_price = int(input(\"Enter the product price\"))\n",
    "if product_price<=1000:\n",
    "    print(\"Price of the product is{}\".format(product_price*0.7))\n",
    "else:\n",
    "    print(\"Price of the product is{}\".format(product_price*0.8))"
   ]
  },
  {
   "cell_type": "code",
   "execution_count": 19,
   "id": "8f379458-1fe3-455e-a9ca-ba44cf5f7730",
   "metadata": {},
   "outputs": [],
   "source": [
    "## OR"
   ]
  },
  {
   "cell_type": "code",
   "execution_count": 21,
   "id": "2f8610cb-c2d2-423f-990a-e99b49f077b5",
   "metadata": {},
   "outputs": [
    {
     "name": "stdin",
     "output_type": "stream",
     "text": [
      "Enter the product price 900\n"
     ]
    },
    {
     "name": "stdout",
     "output_type": "stream",
     "text": [
      "Price of the product is630.0\n"
     ]
    }
   ],
   "source": [
    "product_price = int(input(\"Enter the product price\"))\n",
    "if product_price<=1000:\n",
    "    print(\"Price of the product is{}\".format(product_price-(product_price*0.3)))\n",
    "else:\n",
    "    print(\"Price of the product is{}\".format(product_price*(product_price*0.2)))"
   ]
  },
  {
   "cell_type": "code",
   "execution_count": 26,
   "id": "c8d370fc-2272-4658-b84d-8479c282aba7",
   "metadata": {},
   "outputs": [],
   "source": [
    "###TASK###\n",
    "## In a mall- input the product price\n",
    "## Buy a product >3000, discount of 20%\n",
    "## Print the product price after disc.\n",
    "## Buy a product >=2000 and <=3000, discount of 30%\n",
    "## product >= 1000 and <= 2000, discount of 40%\n",
    "## print the product price after disc."
   ]
  },
  {
   "cell_type": "markdown",
   "id": "a5b534db-dfbf-46f4-8a87-ab667e164b99",
   "metadata": {},
   "source": [
    "## Elif Statement"
   ]
  },
  {
   "cell_type": "code",
   "execution_count": 28,
   "id": "219a23d4-40a9-4d02-aac1-e805b740829e",
   "metadata": {},
   "outputs": [
    {
     "name": "stdin",
     "output_type": "stream",
     "text": [
      "Enter the product price 2500\n"
     ]
    },
    {
     "name": "stdout",
     "output_type": "stream",
     "text": [
      "Price of the product is1750.0\n"
     ]
    }
   ],
   "source": [
    "product_price = int(input(\"Enter the product price\"))\n",
    "if product_price>3000:\n",
    "    print(\"Price of the product is{}\".format(product_price-(product_price*0.2)))\n",
    "elif product_price >=2000 and product_price<=3000:\n",
    "    print(\"Price of the product is{}\".format(product_price*0.7))\n",
    "else:\n",
    "    print(\"Price of the product is{}\".format(product_price-(product_price*0.4)))"
   ]
  },
  {
   "cell_type": "code",
   "execution_count": 29,
   "id": "daf2ec47-9e59-409e-88e9-97d0db59fa4c",
   "metadata": {},
   "outputs": [],
   "source": [
    "###TASK###\n",
    "## In a mall- input the product price\n",
    "## Buy a product >3000, discount of 20%\n",
    "## Print the product price after disc.\n",
    "## Buy a product >=2000 and <=3000, discount of 30%\n",
    "## If the price is ==2999, you get additional gift\n",
    "## product >= 1000 and <= 2000, discount of 40%\n",
    "## print the product price after disc."
   ]
  },
  {
   "cell_type": "code",
   "execution_count": 32,
   "id": "332623c1-a3a6-4011-8977-6881f24cbfa0",
   "metadata": {},
   "outputs": [
    {
     "name": "stdin",
     "output_type": "stream",
     "text": [
      "Enter the product price 2999\n"
     ]
    },
    {
     "name": "stdout",
     "output_type": "stream",
     "text": [
      "Congratulations, you get an additional gift\n",
      "Price of the product is2099.2999999999997\n"
     ]
    }
   ],
   "source": [
    "product_price = int(input(\"Enter the product price\"))\n",
    "if product_price>3000:\n",
    "    print(\"Price of the product is{}\".format(product_price-(product_price*0.2)))\n",
    "elif product_price >=2000 and product_price<=3000:\n",
    "    if product_price ==2999:\n",
    "        print(\"Congratulations, you get an additional gift\")\n",
    "    print(\"Price of the product is{}\".format(product_price*0.7))\n",
    "else:\n",
    "    print(\"Price of the product is{}\".format(product_price-(product_price*0.4)))"
   ]
  },
  {
   "cell_type": "markdown",
   "id": "dc754b4c-5072-4e49-86ee-fadda2f0c60b",
   "metadata": {},
   "source": [
    "## Single Statement Suite"
   ]
  },
  {
   "cell_type": "code",
   "execution_count": 35,
   "id": "0b3a533e-1b46-42e9-9916-6b2d34c21ade",
   "metadata": {},
   "outputs": [
    {
     "name": "stdin",
     "output_type": "stream",
     "text": [
      "Enter the Number 1000\n"
     ]
    },
    {
     "name": "stdout",
     "output_type": "stream",
     "text": [
      "Go Home\n"
     ]
    }
   ],
   "source": [
    "val = int(input(\"Enter the Number\"))\n",
    "if(val<=999):print(\"Value is less than equal to 999\")\n",
    "else:\n",
    "    print(\"Go Home\")"
   ]
  },
  {
   "cell_type": "code",
   "execution_count": null,
   "id": "31ad6e61-5f82-4c69-a558-ef64b60e8e80",
   "metadata": {},
   "outputs": [],
   "source": []
  }
 ],
 "metadata": {
  "kernelspec": {
   "display_name": "Python 3 (ipykernel)",
   "language": "python",
   "name": "python3"
  },
  "language_info": {
   "codemirror_mode": {
    "name": "ipython",
    "version": 3
   },
   "file_extension": ".py",
   "mimetype": "text/x-python",
   "name": "python",
   "nbconvert_exporter": "python",
   "pygments_lexer": "ipython3",
   "version": "3.10.8"
  }
 },
 "nbformat": 4,
 "nbformat_minor": 5
}
